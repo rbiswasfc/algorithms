{
 "cells": [
  {
   "cell_type": "code",
   "execution_count": 3,
   "id": "0fe87c9b",
   "metadata": {},
   "outputs": [
    {
     "data": {
      "text/plain": [
       "23"
      ]
     },
     "execution_count": 3,
     "metadata": {},
     "output_type": "execute_result"
    }
   ],
   "source": [
    "23%25"
   ]
  },
  {
   "cell_type": "code",
   "execution_count": 57,
   "id": "c07aa182",
   "metadata": {},
   "outputs": [],
   "source": [
    "class MyCircularQueue:\n",
    "\n",
    "    def __init__(self, k: int):\n",
    "        assert (k <=1000) and (k>=1), \"wrong input size\"\n",
    "        self.max_size = k\n",
    "        self.cur_size = 0\n",
    "        self.data = [None]*k\n",
    "        self.head = None\n",
    "        self.tail = None\n",
    "        self.num_calls = 0\n",
    "        \n",
    "\n",
    "    def enQueue(self, value: int) -> bool:\n",
    "        self.num_calls +=1\n",
    "        if isinstance(self.tail, int):\n",
    "            en_idx = (self.tail + 1)%self.max_size\n",
    "            if (en_idx != self.head) or (self.cur_size==0):\n",
    "                self.cur_size += 1\n",
    "                self.data[en_idx] = value\n",
    "                self.tail = en_idx\n",
    "                return True\n",
    "            else:\n",
    "                return False\n",
    "        else: \n",
    "            self.head = 0\n",
    "            self.tail = 0\n",
    "            self.data[0] = value\n",
    "            self.cur_size += 1\n",
    "            return True\n",
    "        \n",
    "    def deQueue(self) -> bool:\n",
    "        self.num_calls += 1\n",
    "        if self.cur_size > 0:\n",
    "            self.data[self.head] = None\n",
    "            self.cur_size -= 1\n",
    "            # if self.cur_size != 0:\n",
    "            self.head = (self.head + 1)%self.max_size\n",
    "            return True\n",
    "        else:\n",
    "            return False\n",
    "        \n",
    "    def Front(self) -> int:\n",
    "        return self.data[self.head]\n",
    "        \n",
    "\n",
    "    def Rear(self) -> int:\n",
    "        return self.data[self.tail]\n",
    "        \n",
    "\n",
    "    def isEmpty(self) -> bool:\n",
    "        if self.cur_size <= 0:\n",
    "            return True\n",
    "        else:\n",
    "            return False\n",
    "        \n",
    "\n",
    "    def isFull(self) -> bool:\n",
    "        pass\n",
    "    \n",
    "    def __str__(self):\n",
    "        cur_data = list(filter(None, self.data))\n",
    "        s = \"Queue with data {} with head and tail at {}, {}\".format(cur_data, self.head, self.tail)\n",
    "        return s\n",
    "        \n",
    "\n",
    "\n",
    "# Your MyCircularQueue object will be instantiated and called as such:\n",
    "# obj = MyCircularQueue(k)\n",
    "# param_1 = obj.enQueue(value)\n",
    "# param_2 = obj.deQueue()\n",
    "# param_3 = obj.Front()\n",
    "# param_4 = obj.Rear()\n",
    "# param_5 = obj.isEmpty()\n",
    "# param_6 = obj.isFull()"
   ]
  },
  {
   "cell_type": "code",
   "execution_count": 59,
   "id": "6eccf7ce",
   "metadata": {},
   "outputs": [
    {
     "name": "stdout",
     "output_type": "stream",
     "text": [
      "Queue with data [] with head and tail at None, None\n",
      "Queue with data [1] with head and tail at 0, 0\n",
      "1\n",
      "Queue with data [1, 9] with head and tail at 0, 1\n",
      "2\n",
      "Queue with data [1, 9, 19] with head and tail at 0, 2\n",
      "3\n",
      "Queue with data [9, 19] with head and tail at 1, 2\n",
      "2\n",
      "Queue with data [19] with head and tail at 2, 2\n",
      "1\n",
      "Queue with data [] with head and tail at 3, 2\n",
      "0\n",
      "Queue with data [] with head and tail at 3, 2\n",
      "0\n",
      "Queue with data [] with head and tail at 3, 2\n",
      "0\n",
      "Queue with data [20] with head and tail at 3, 3\n",
      "Queue with data [20, 25] with head and tail at 3, 4\n",
      "Queue with data [25] with head and tail at 4, 4\n",
      "Queue with data [30, 25] with head and tail at 4, 0\n"
     ]
    }
   ],
   "source": [
    "q = MyCircularQueue(5)\n",
    "q.deQueue()\n",
    "print(q)\n",
    "\n",
    "\n",
    "q.enQueue(1)\n",
    "print(q)\n",
    "print(q.cur_size)\n",
    "q.enQueue(9)\n",
    "print(q)\n",
    "print(q.cur_size)\n",
    "q.enQueue(19)\n",
    "print(q)\n",
    "print(q.cur_size)\n",
    "\n",
    "q.deQueue()\n",
    "print(q)\n",
    "print(q.cur_size)\n",
    "q.deQueue()\n",
    "print(q)\n",
    "print(q.cur_size)\n",
    "q.deQueue()\n",
    "print(q)\n",
    "print(q.cur_size)\n",
    "q.deQueue()\n",
    "print(q)\n",
    "print(q.cur_size)\n",
    "q.deQueue()\n",
    "print(q)\n",
    "print(q.cur_size)\n",
    "\n",
    "q.enQueue(20)\n",
    "print(q)\n",
    "q.enQueue(25)\n",
    "print(q)\n",
    "q.deQueue()\n",
    "print(q)\n",
    "q.enQueue(30)\n",
    "print(q)"
   ]
  },
  {
   "cell_type": "code",
   "execution_count": 43,
   "id": "fd8c1704",
   "metadata": {},
   "outputs": [
    {
     "name": "stdout",
     "output_type": "stream",
     "text": [
      "Queue with data [30, 9, 19, 20, 25] with head and tail at 1, 0\n"
     ]
    }
   ],
   "source": [
    "print(q)"
   ]
  },
  {
   "cell_type": "code",
   "execution_count": null,
   "id": "a61415b1",
   "metadata": {},
   "outputs": [],
   "source": []
  }
 ],
 "metadata": {
  "kernelspec": {
   "display_name": "cs224n",
   "language": "python",
   "name": "cs224n"
  },
  "language_info": {
   "codemirror_mode": {
    "name": "ipython",
    "version": 3
   },
   "file_extension": ".py",
   "mimetype": "text/x-python",
   "name": "python",
   "nbconvert_exporter": "python",
   "pygments_lexer": "ipython3",
   "version": "3.7.10"
  }
 },
 "nbformat": 4,
 "nbformat_minor": 5
}
