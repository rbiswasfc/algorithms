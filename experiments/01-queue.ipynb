{
 "cells": [
  {
   "cell_type": "code",
   "execution_count": 1,
   "id": "0fe87c9b",
   "metadata": {},
   "outputs": [
    {
     "data": {
      "text/plain": [
       "23"
      ]
     },
     "execution_count": 1,
     "metadata": {},
     "output_type": "execute_result"
    }
   ],
   "source": [
    "23%25"
   ]
  },
  {
   "cell_type": "code",
   "execution_count": 2,
   "id": "c07aa182",
   "metadata": {},
   "outputs": [],
   "source": [
    "class MyCircularQueue:\n",
    "\n",
    "    def __init__(self, k: int):\n",
    "        assert (k <=1000) and (k>=1), \"wrong input size\"\n",
    "        self.max_size = k\n",
    "        self.cur_size = 0\n",
    "        self.data = [None]*k\n",
    "        self.head = None\n",
    "        self.tail = None\n",
    "        self.num_calls = 0\n",
    "        \n",
    "\n",
    "    def enQueue(self, value: int) -> bool:\n",
    "        self.num_calls +=1\n",
    "        if isinstance(self.tail, int):\n",
    "            en_idx = (self.tail + 1)%self.max_size\n",
    "            if (en_idx != self.head) or (self.cur_size==0):\n",
    "                self.cur_size += 1\n",
    "                self.data[en_idx] = value\n",
    "                self.tail = en_idx\n",
    "                return True\n",
    "            else:\n",
    "                return False\n",
    "        else: \n",
    "            self.head = 0\n",
    "            self.tail = 0\n",
    "            self.data[0] = value\n",
    "            self.cur_size += 1\n",
    "            return True\n",
    "        \n",
    "    def deQueue(self) -> bool:\n",
    "        self.num_calls += 1\n",
    "        if self.cur_size > 0:\n",
    "            self.data[self.head] = None\n",
    "            self.cur_size -= 1\n",
    "            # if self.cur_size != 0:\n",
    "            self.head = (self.head + 1)%self.max_size\n",
    "            return True\n",
    "        else:\n",
    "            return False\n",
    "        \n",
    "    def Front(self) -> int:\n",
    "        return self.data[self.head]\n",
    "        \n",
    "\n",
    "    def Rear(self) -> int:\n",
    "        return self.data[self.tail]\n",
    "        \n",
    "\n",
    "    def isEmpty(self) -> bool:\n",
    "        if self.cur_size <= 0:\n",
    "            return True\n",
    "        else:\n",
    "            return False\n",
    "        \n",
    "\n",
    "    def isFull(self) -> bool:\n",
    "        pass\n",
    "    \n",
    "    def __str__(self):\n",
    "        cur_data = list(filter(None, self.data))\n",
    "        s = \"Queue with data {} with head and tail at {}, {}\".format(cur_data, self.head, self.tail)\n",
    "        return s\n",
    "        \n",
    "\n",
    "\n",
    "# Your MyCircularQueue object will be instantiated and called as such:\n",
    "# obj = MyCircularQueue(k)\n",
    "# param_1 = obj.enQueue(value)\n",
    "# param_2 = obj.deQueue()\n",
    "# param_3 = obj.Front()\n",
    "# param_4 = obj.Rear()\n",
    "# param_5 = obj.isEmpty()\n",
    "# param_6 = obj.isFull()"
   ]
  },
  {
   "cell_type": "code",
   "execution_count": 3,
   "id": "6eccf7ce",
   "metadata": {},
   "outputs": [
    {
     "name": "stdout",
     "output_type": "stream",
     "text": [
      "Queue with data [] with head and tail at None, None\n",
      "Queue with data [1] with head and tail at 0, 0\n",
      "1\n",
      "Queue with data [1, 9] with head and tail at 0, 1\n",
      "2\n",
      "Queue with data [1, 9, 19] with head and tail at 0, 2\n",
      "3\n",
      "Queue with data [9, 19] with head and tail at 1, 2\n",
      "2\n",
      "Queue with data [19] with head and tail at 2, 2\n",
      "1\n",
      "Queue with data [] with head and tail at 3, 2\n",
      "0\n",
      "Queue with data [] with head and tail at 3, 2\n",
      "0\n",
      "Queue with data [] with head and tail at 3, 2\n",
      "0\n",
      "Queue with data [20] with head and tail at 3, 3\n",
      "Queue with data [20, 25] with head and tail at 3, 4\n",
      "Queue with data [25] with head and tail at 4, 4\n",
      "Queue with data [30, 25] with head and tail at 4, 0\n"
     ]
    }
   ],
   "source": [
    "q = MyCircularQueue(5)\n",
    "q.deQueue()\n",
    "print(q)\n",
    "\n",
    "\n",
    "q.enQueue(1)\n",
    "print(q)\n",
    "print(q.cur_size)\n",
    "q.enQueue(9)\n",
    "print(q)\n",
    "print(q.cur_size)\n",
    "q.enQueue(19)\n",
    "print(q)\n",
    "print(q.cur_size)\n",
    "\n",
    "q.deQueue()\n",
    "print(q)\n",
    "print(q.cur_size)\n",
    "q.deQueue()\n",
    "print(q)\n",
    "print(q.cur_size)\n",
    "q.deQueue()\n",
    "print(q)\n",
    "print(q.cur_size)\n",
    "q.deQueue()\n",
    "print(q)\n",
    "print(q.cur_size)\n",
    "q.deQueue()\n",
    "print(q)\n",
    "print(q.cur_size)\n",
    "\n",
    "q.enQueue(20)\n",
    "print(q)\n",
    "q.enQueue(25)\n",
    "print(q)\n",
    "q.deQueue()\n",
    "print(q)\n",
    "q.enQueue(30)\n",
    "print(q)"
   ]
  },
  {
   "cell_type": "code",
   "execution_count": 4,
   "id": "fd8c1704",
   "metadata": {},
   "outputs": [
    {
     "name": "stdout",
     "output_type": "stream",
     "text": [
      "Queue with data [30, 25] with head and tail at 4, 0\n"
     ]
    }
   ],
   "source": [
    "print(q)"
   ]
  },
  {
   "cell_type": "code",
   "execution_count": 6,
   "id": "196331b8",
   "metadata": {},
   "outputs": [],
   "source": [
    "from typing import List"
   ]
  },
  {
   "cell_type": "code",
   "execution_count": 7,
   "id": "a61415b1",
   "metadata": {},
   "outputs": [],
   "source": [
    "class Solution:\n",
    "    def numIslands(self, grid: List[List[str]]) -> int:\n",
    "        queue = []\n",
    "        m, n = len(grid), len(grid[0])\n",
    "        # print(m)\n",
    "        # print(n)\n",
    "        for i in range(m):\n",
    "            for j in range(n):\n",
    "                if grid[i][j]==1:\n",
    "                    print('appending')\n",
    "                    queue.append([i,j])\n",
    "        \n",
    "        def explore(x,y):\n",
    "            if grid[x][y]==0:\n",
    "                return\n",
    "            if (x<0) or (x>=m):\n",
    "                return\n",
    "            if (y<0) or (y>=n):\n",
    "                return\n",
    "            grid[x][y] = 0 # set zero to visited node\n",
    "            explore(x+1, y) # go right\n",
    "            explore(x, y+1) # go bottom\n",
    "            explore(x-1, y) # go left\n",
    "            explore(x, y-1) # go top\n",
    "        \n",
    "        num_islands = 0\n",
    "        print(len(queue))\n",
    "        while queue:\n",
    "            pos = queue.pop(0)\n",
    "            if grid[pos[0]][pos[1]] == 0:\n",
    "                continue\n",
    "            num_islands += 1\n",
    "            explore(pos[0], pos[1])\n",
    "        \n",
    "        return num_islands"
   ]
  },
  {
   "cell_type": "code",
   "execution_count": null,
   "id": "2e7d1ba3",
   "metadata": {},
   "outputs": [],
   "source": [
    "grid = [[\"1\",\"1\",\"1\",\"1\",\"0\"],[\"1\",\"1\",\"0\",\"1\",\"0\"],[\"1\",\"1\",\"0\",\"0\",\"0\"],[\"0\",\"0\",\"0\",\"0\",\"0\"]]"
   ]
  },
  {
   "cell_type": "code",
   "execution_count": 8,
   "id": "ff1a6260",
   "metadata": {},
   "outputs": [
    {
     "data": {
      "text/plain": [
       "9"
      ]
     },
     "execution_count": 8,
     "metadata": {},
     "output_type": "execute_result"
    }
   ],
   "source": [
    "-1%10"
   ]
  },
  {
   "cell_type": "code",
   "execution_count": 12,
   "id": "c4f52237",
   "metadata": {},
   "outputs": [],
   "source": [
    "s = 'abc'\n",
    "s_c = s"
   ]
  },
  {
   "cell_type": "code",
   "execution_count": 14,
   "id": "2edaf200",
   "metadata": {},
   "outputs": [
    {
     "ename": "SyntaxError",
     "evalue": "keyword can't be an expression (<ipython-input-14-dc327fcffa7d>, line 1)",
     "output_type": "error",
     "traceback": [
      "\u001b[0;36m  File \u001b[0;32m\"<ipython-input-14-dc327fcffa7d>\"\u001b[0;36m, line \u001b[0;32m1\u001b[0m\n\u001b[0;31m    \"\".join(s_c.split()[2] = 'd')\u001b[0m\n\u001b[0m           ^\u001b[0m\n\u001b[0;31mSyntaxError\u001b[0m\u001b[0;31m:\u001b[0m keyword can't be an expression\n"
     ]
    }
   ],
   "source": [
    "\"\".join(s_c.split()[2] = 'd')"
   ]
  },
  {
   "cell_type": "code",
   "execution_count": 17,
   "id": "3131e3ae",
   "metadata": {},
   "outputs": [
    {
     "data": {
      "text/plain": [
       "['abc']"
      ]
     },
     "execution_count": 17,
     "metadata": {},
     "output_type": "execute_result"
    }
   ],
   "source": [
    "s_c.split('.')"
   ]
  },
  {
   "cell_type": "code",
   "execution_count": 24,
   "id": "0e508107",
   "metadata": {},
   "outputs": [],
   "source": [
    "L = [1,2,3]\n",
    "L1 = L.copy()"
   ]
  },
  {
   "cell_type": "code",
   "execution_count": 19,
   "id": "96ab555f",
   "metadata": {},
   "outputs": [],
   "source": [
    "L1[0] = 6"
   ]
  },
  {
   "cell_type": "code",
   "execution_count": 20,
   "id": "13bc60fe",
   "metadata": {},
   "outputs": [
    {
     "data": {
      "text/plain": [
       "[1, 2, 3]"
      ]
     },
     "execution_count": 20,
     "metadata": {},
     "output_type": "execute_result"
    }
   ],
   "source": [
    "L"
   ]
  },
  {
   "cell_type": "code",
   "execution_count": 21,
   "id": "412fbf03",
   "metadata": {},
   "outputs": [
    {
     "data": {
      "text/plain": [
       "[6, 2, 3]"
      ]
     },
     "execution_count": 21,
     "metadata": {},
     "output_type": "execute_result"
    }
   ],
   "source": [
    "L1"
   ]
  },
  {
   "cell_type": "code",
   "execution_count": 25,
   "id": "91a566cf",
   "metadata": {},
   "outputs": [],
   "source": [
    "x = L1.pop(-1)"
   ]
  },
  {
   "cell_type": "code",
   "execution_count": 32,
   "id": "a320116c",
   "metadata": {},
   "outputs": [
    {
     "data": {
      "text/plain": [
       "False"
      ]
     },
     "execution_count": 32,
     "metadata": {},
     "output_type": "execute_result"
    }
   ],
   "source": [
    "'3.0'.isdigit()"
   ]
  },
  {
   "cell_type": "code",
   "execution_count": 34,
   "id": "d1153326",
   "metadata": {},
   "outputs": [
    {
     "data": {
      "text/plain": [
       "-11"
      ]
     },
     "execution_count": 34,
     "metadata": {},
     "output_type": "execute_result"
    }
   ],
   "source": [
    "int('-11')"
   ]
  },
  {
   "cell_type": "code",
   "execution_count": 36,
   "id": "d3f72657",
   "metadata": {},
   "outputs": [
    {
     "data": {
      "text/plain": [
       "True"
      ]
     },
     "execution_count": 36,
     "metadata": {},
     "output_type": "execute_result"
    }
   ],
   "source": [
    "'11'.isnumeric()"
   ]
  },
  {
   "cell_type": "code",
   "execution_count": 37,
   "id": "023cb3b9",
   "metadata": {},
   "outputs": [
    {
     "data": {
      "text/plain": [
       "-2"
      ]
     },
     "execution_count": 37,
     "metadata": {},
     "output_type": "execute_result"
    }
   ],
   "source": [
    "-6//4"
   ]
  },
  {
   "cell_type": "code",
   "execution_count": 38,
   "id": "eb41da9a",
   "metadata": {},
   "outputs": [],
   "source": [
    "def div(x1, x2):\n",
    "    if x1*x2>=0:\n",
    "        return x1//x2\n",
    "    else:\n",
    "        return -(-x1//x2)"
   ]
  },
  {
   "cell_type": "code",
   "execution_count": 42,
   "id": "e7322617",
   "metadata": {},
   "outputs": [
    {
     "data": {
      "text/plain": [
       "1"
      ]
     },
     "execution_count": 42,
     "metadata": {},
     "output_type": "execute_result"
    }
   ],
   "source": [
    "div(6, 5)"
   ]
  },
  {
   "cell_type": "code",
   "execution_count": null,
   "id": "87fa9ee9",
   "metadata": {},
   "outputs": [],
   "source": []
  },
  {
   "cell_type": "code",
   "execution_count": null,
   "id": "acf05a61",
   "metadata": {},
   "outputs": [],
   "source": []
  },
  {
   "cell_type": "code",
   "execution_count": null,
   "id": "e41ea48d",
   "metadata": {},
   "outputs": [],
   "source": []
  },
  {
   "cell_type": "code",
   "execution_count": null,
   "id": "7d88d61a",
   "metadata": {},
   "outputs": [],
   "source": []
  },
  {
   "cell_type": "code",
   "execution_count": null,
   "id": "9e6dc92d",
   "metadata": {},
   "outputs": [],
   "source": []
  },
  {
   "cell_type": "code",
   "execution_count": null,
   "id": "22326255",
   "metadata": {},
   "outputs": [],
   "source": []
  },
  {
   "cell_type": "code",
   "execution_count": null,
   "id": "58990ddd",
   "metadata": {},
   "outputs": [],
   "source": []
  }
 ],
 "metadata": {
  "kernelspec": {
   "display_name": "cs224n",
   "language": "python",
   "name": "cs224n"
  },
  "language_info": {
   "codemirror_mode": {
    "name": "ipython",
    "version": 3
   },
   "file_extension": ".py",
   "mimetype": "text/x-python",
   "name": "python",
   "nbconvert_exporter": "python",
   "pygments_lexer": "ipython3",
   "version": "3.7.10"
  }
 },
 "nbformat": 4,
 "nbformat_minor": 5
}
