{
 "cells": [
  {
   "cell_type": "code",
   "execution_count": 1,
   "id": "68c2592c",
   "metadata": {},
   "outputs": [],
   "source": [
    "import os\n",
    "import sys\n",
    "import numpy as np\n",
    "import pandas as pd"
   ]
  },
  {
   "cell_type": "code",
   "execution_count": 2,
   "id": "698b39e5",
   "metadata": {},
   "outputs": [],
   "source": [
    "import nltk\n",
    "import spacy"
   ]
  },
  {
   "cell_type": "code",
   "execution_count": 3,
   "id": "77222303",
   "metadata": {},
   "outputs": [
    {
     "name": "stdout",
     "output_type": "stream",
     "text": [
      "Collecting wikipedia-api\n",
      "  Downloading Wikipedia-API-0.5.4.tar.gz (18 kB)\n",
      "Requirement already satisfied: requests in /Users/rajabiswas/opt/anaconda3/envs/cs224n/lib/python3.7/site-packages (from wikipedia-api) (2.25.1)\n",
      "Requirement already satisfied: urllib3<1.27,>=1.21.1 in /Users/rajabiswas/opt/anaconda3/envs/cs224n/lib/python3.7/site-packages (from requests->wikipedia-api) (1.26.4)\n",
      "Requirement already satisfied: idna<3,>=2.5 in /Users/rajabiswas/opt/anaconda3/envs/cs224n/lib/python3.7/site-packages (from requests->wikipedia-api) (2.10)\n",
      "Requirement already satisfied: certifi>=2017.4.17 in /Users/rajabiswas/opt/anaconda3/envs/cs224n/lib/python3.7/site-packages (from requests->wikipedia-api) (2021.5.30)\n",
      "Requirement already satisfied: chardet<5,>=3.0.2 in /Users/rajabiswas/opt/anaconda3/envs/cs224n/lib/python3.7/site-packages (from requests->wikipedia-api) (3.0.4)\n",
      "Building wheels for collected packages: wikipedia-api\n",
      "  Building wheel for wikipedia-api (setup.py) ... \u001b[?25ldone\n",
      "\u001b[?25h  Created wheel for wikipedia-api: filename=Wikipedia_API-0.5.4-py3-none-any.whl size=13462 sha256=6dc8cbb8548b8ec66255a93787c008df395f2c90e64f9e8f561038fa8c4f1fbb\n",
      "  Stored in directory: /Users/rajabiswas/Library/Caches/pip/wheels/d3/24/56/58ba93cf78be162451144e7a9889603f437976ef1ae7013d04\n",
      "Successfully built wikipedia-api\n",
      "Installing collected packages: wikipedia-api\n",
      "Successfully installed wikipedia-api-0.5.4\n"
     ]
    }
   ],
   "source": [
    "! pip install wikipedia-api"
   ]
  },
  {
   "cell_type": "code",
   "execution_count": 4,
   "id": "7a768c62",
   "metadata": {},
   "outputs": [],
   "source": [
    "import wikipediaapi  # pip install wikipedia-api\n",
    "import pandas as pd\n",
    "import concurrent.futures\n",
    "from tqdm import tqdm\n",
    "\n",
    "def wiki_scrape(topic_name, verbose=True):\n",
    "    def wiki_link(link):\n",
    "        try:\n",
    "            page = wiki_api.page(link)\n",
    "            if page.exists():\n",
    "                return {'page': link, 'text': page.text, 'link': page.fullurl,\n",
    "                        'categories': list(page.categories.keys())}\n",
    "        except:\n",
    "            return None\n",
    "\n",
    "    wiki_api = wikipediaapi.Wikipedia(language='en',\n",
    "        extract_format=wikipediaapi.ExtractFormat.WIKI)\n",
    "    page_name = wiki_api.page(topic_name)\n",
    "    if not page_name.exists():\n",
    "        print('Page {} does not exist.'.format(topic_name))\n",
    "        return\n",
    "    \n",
    "    page_links = list(page_name.links.keys())\n",
    "    progress = tqdm(desc='Links Scraped', unit='', total=len(page_links)) if verbose else None\n",
    "    sources = [{'page': topic_name, 'text': page_name.text, 'link': page_name.fullurl,\n",
    "                'categories': list(page_name.categories.keys())}]\n",
    "    \n",
    "    with concurrent.futures.ThreadPoolExecutor(max_workers=5) as executor:\n",
    "        future_link = {executor.submit(wiki_link, link): link for link in page_links}\n",
    "        for future in concurrent.futures.as_completed(future_link):\n",
    "            data = future.result()\n",
    "            sources.append(data) if data else None\n",
    "            progress.update(1) if verbose else None     \n",
    "    progress.close() if verbose else None\n",
    "    \n",
    "    namespaces = ('Wikipedia', 'Special', 'Talk', 'LyricWiki', 'File', 'MediaWiki',\n",
    "                  'Template', 'Help', 'User', 'Category talk', 'Portal talk')\n",
    "    sources = pd.DataFrame(sources)\n",
    "    sources = sources[(len(sources['text']) > 20)\n",
    "                      & ~(sources['page'].str.startswith(namespaces, na=True))]\n",
    "    sources['categories'] = sources.categories.apply(lambda x: [y[9:] for y in x])\n",
    "    sources['topic'] = topic_name\n",
    "    print('Wikipedia pages scraped:', len(sources))\n",
    "    \n",
    "    return sources"
   ]
  },
  {
   "cell_type": "code",
   "execution_count": 5,
   "id": "d9e3c754",
   "metadata": {},
   "outputs": [
    {
     "name": "stderr",
     "output_type": "stream",
     "text": [
      "Links Scraped: 100%|██████████| 917/917 [03:35<00:00,  4.25/s]"
     ]
    },
    {
     "name": "stdout",
     "output_type": "stream",
     "text": [
      "Wikipedia pages scraped: 889\n"
     ]
    },
    {
     "name": "stderr",
     "output_type": "stream",
     "text": [
      "\n"
     ]
    }
   ],
   "source": [
    "wiki_data = wiki_scrape('self-driving technology')"
   ]
  },
  {
   "cell_type": "code",
   "execution_count": 6,
   "id": "a959b813",
   "metadata": {},
   "outputs": [
    {
     "data": {
      "text/html": [
       "<div>\n",
       "<style scoped>\n",
       "    .dataframe tbody tr th:only-of-type {\n",
       "        vertical-align: middle;\n",
       "    }\n",
       "\n",
       "    .dataframe tbody tr th {\n",
       "        vertical-align: top;\n",
       "    }\n",
       "\n",
       "    .dataframe thead th {\n",
       "        text-align: right;\n",
       "    }\n",
       "</style>\n",
       "<table border=\"1\" class=\"dataframe\">\n",
       "  <thead>\n",
       "    <tr style=\"text-align: right;\">\n",
       "      <th></th>\n",
       "      <th>page</th>\n",
       "      <th>text</th>\n",
       "      <th>link</th>\n",
       "      <th>categories</th>\n",
       "      <th>topic</th>\n",
       "    </tr>\n",
       "  </thead>\n",
       "  <tbody>\n",
       "    <tr>\n",
       "      <th>0</th>\n",
       "      <td>self-driving technology</td>\n",
       "      <td>A self-driving car, also known as an autonomou...</td>\n",
       "      <td>https://en.wikipedia.org/wiki/Self-driving_car</td>\n",
       "      <td>[All articles containing potentially dated sta...</td>\n",
       "      <td>self-driving technology</td>\n",
       "    </tr>\n",
       "    <tr>\n",
       "      <th>1</th>\n",
       "      <td>17-4 stainless steel</td>\n",
       "      <td>SAE Type 630 stainless steel (more commonly kn...</td>\n",
       "      <td>https://en.wikipedia.org/wiki/17-4_stainless_s...</td>\n",
       "      <td>[All stub articles, Alloy stubs, CS1 maint: di...</td>\n",
       "      <td>self-driving technology</td>\n",
       "    </tr>\n",
       "    <tr>\n",
       "      <th>2</th>\n",
       "      <td>163.com</td>\n",
       "      <td>%5B%5BWikipedia%3ARedirects+for+discussion%5D%...</td>\n",
       "      <td>https://en.wikipedia.org/wiki/163.com</td>\n",
       "      <td>[All redirects for discussion, Printworthy red...</td>\n",
       "      <td>self-driving technology</td>\n",
       "    </tr>\n",
       "    <tr>\n",
       "      <th>3</th>\n",
       "      <td>2+2 (car body style)</td>\n",
       "      <td>The 2+2 is a version of the coupé car-body sty...</td>\n",
       "      <td>https://en.wikipedia.org/wiki/2%2B2_(car_body_...</td>\n",
       "      <td>[All articles needing additional references, A...</td>\n",
       "      <td>self-driving technology</td>\n",
       "    </tr>\n",
       "    <tr>\n",
       "      <th>4</th>\n",
       "      <td>2022 Winter Olympics</td>\n",
       "      <td>The 2022 Winter Olympics, officially known as ...</td>\n",
       "      <td>https://en.wikipedia.org/wiki/2022_Winter_Olym...</td>\n",
       "      <td>[2020s in Beijing, 2022 Winter Olympics, 2022 ...</td>\n",
       "      <td>self-driving technology</td>\n",
       "    </tr>\n",
       "  </tbody>\n",
       "</table>\n",
       "</div>"
      ],
      "text/plain": [
       "                      page                                               text  \\\n",
       "0  self-driving technology  A self-driving car, also known as an autonomou...   \n",
       "1     17-4 stainless steel  SAE Type 630 stainless steel (more commonly kn...   \n",
       "2                  163.com  %5B%5BWikipedia%3ARedirects+for+discussion%5D%...   \n",
       "3     2+2 (car body style)  The 2+2 is a version of the coupé car-body sty...   \n",
       "4     2022 Winter Olympics  The 2022 Winter Olympics, officially known as ...   \n",
       "\n",
       "                                                link  \\\n",
       "0     https://en.wikipedia.org/wiki/Self-driving_car   \n",
       "1  https://en.wikipedia.org/wiki/17-4_stainless_s...   \n",
       "2              https://en.wikipedia.org/wiki/163.com   \n",
       "3  https://en.wikipedia.org/wiki/2%2B2_(car_body_...   \n",
       "4  https://en.wikipedia.org/wiki/2022_Winter_Olym...   \n",
       "\n",
       "                                          categories                    topic  \n",
       "0  [All articles containing potentially dated sta...  self-driving technology  \n",
       "1  [All stub articles, Alloy stubs, CS1 maint: di...  self-driving technology  \n",
       "2  [All redirects for discussion, Printworthy red...  self-driving technology  \n",
       "3  [All articles needing additional references, A...  self-driving technology  \n",
       "4  [2020s in Beijing, 2022 Winter Olympics, 2022 ...  self-driving technology  "
      ]
     },
     "execution_count": 6,
     "metadata": {},
     "output_type": "execute_result"
    }
   ],
   "source": [
    "wiki_data.head()"
   ]
  },
  {
   "cell_type": "code",
   "execution_count": 9,
   "id": "fe823b27",
   "metadata": {},
   "outputs": [
    {
     "name": "stderr",
     "output_type": "stream",
     "text": [
      "[nltk_data] Downloading package punkt to\n",
      "[nltk_data]     /Users/rajabiswas/nltk_data...\n",
      "[nltk_data]   Package punkt is already up-to-date!\n"
     ]
    }
   ],
   "source": [
    "from nltk.tokenize import sent_tokenize\n",
    "nltk.download('punkt')\n",
    "import itertools"
   ]
  },
  {
   "cell_type": "code",
   "execution_count": 17,
   "id": "c48df836",
   "metadata": {},
   "outputs": [
    {
     "data": {
      "text/plain": [
       "'a self-driving car, also known as an autonomous vehicle (av or auto), driverless car, or robo-car, is a vehicle that is capable of sensing its environment and moving safely with little or no human input.self-driving cars combine a variety of sensors to perceive their surroundings, such as radar, lidar, sonar, gps, odometry and inertial measurement units.'"
      ]
     },
     "execution_count": 17,
     "metadata": {},
     "output_type": "execute_result"
    }
   ],
   "source": [
    "text = wiki_data.loc[0,'text']\n",
    "text = text.split('\\n')\n",
    "text = [sent for sent in text if len(sent)>=2]\n",
    "text = [sent_tokenize(sent) for sent in text]\n",
    "text = list(itertools.chain(*text))\n",
    "text = [sent for sent in text if len(sent)>=3]\n",
    "sentences = [sent.strip().lower() for sent in text]\n",
    "sentences[0]"
   ]
  },
  {
   "cell_type": "code",
   "execution_count": 18,
   "id": "69870198",
   "metadata": {},
   "outputs": [
    {
     "ename": "OSError",
     "evalue": "[E050] Can't find model 'en_core_web_sm'. It doesn't seem to be a Python package or a valid path to a data directory.",
     "output_type": "error",
     "traceback": [
      "\u001b[0;31m---------------------------------------------------\u001b[0m",
      "\u001b[0;31mOSError\u001b[0m           Traceback (most recent call last)",
      "\u001b[0;32m<ipython-input-18-955d195dad69>\u001b[0m in \u001b[0;36m<module>\u001b[0;34m\u001b[0m\n\u001b[0;32m----> 1\u001b[0;31m \u001b[0mnlp\u001b[0m \u001b[0;34m=\u001b[0m \u001b[0mspacy\u001b[0m\u001b[0;34m.\u001b[0m\u001b[0mload\u001b[0m\u001b[0;34m(\u001b[0m\u001b[0;34m'en_core_web_sm'\u001b[0m\u001b[0;34m)\u001b[0m\u001b[0;34m\u001b[0m\u001b[0;34m\u001b[0m\u001b[0m\n\u001b[0m\u001b[1;32m      2\u001b[0m \u001b[0;31m# neuralcoref.add_to_pipe(nlp)\u001b[0m\u001b[0;34m\u001b[0m\u001b[0;34m\u001b[0m\u001b[0;34m\u001b[0m\u001b[0m\n",
      "\u001b[0;32m~/opt/anaconda3/envs/cs224n/lib/python3.7/site-packages/spacy/__init__.py\u001b[0m in \u001b[0;36mload\u001b[0;34m(name, disable, exclude, config)\u001b[0m\n\u001b[1;32m     45\u001b[0m     \u001b[0mRETURNS\u001b[0m \u001b[0;34m(\u001b[0m\u001b[0mLanguage\u001b[0m\u001b[0;34m)\u001b[0m\u001b[0;34m:\u001b[0m \u001b[0mThe\u001b[0m \u001b[0mloaded\u001b[0m \u001b[0mnlp\u001b[0m \u001b[0mobject\u001b[0m\u001b[0;34m.\u001b[0m\u001b[0;34m\u001b[0m\u001b[0;34m\u001b[0m\u001b[0m\n\u001b[1;32m     46\u001b[0m     \"\"\"\n\u001b[0;32m---> 47\u001b[0;31m     \u001b[0;32mreturn\u001b[0m \u001b[0mutil\u001b[0m\u001b[0;34m.\u001b[0m\u001b[0mload_model\u001b[0m\u001b[0;34m(\u001b[0m\u001b[0mname\u001b[0m\u001b[0;34m,\u001b[0m \u001b[0mdisable\u001b[0m\u001b[0;34m=\u001b[0m\u001b[0mdisable\u001b[0m\u001b[0;34m,\u001b[0m \u001b[0mexclude\u001b[0m\u001b[0;34m=\u001b[0m\u001b[0mexclude\u001b[0m\u001b[0;34m,\u001b[0m \u001b[0mconfig\u001b[0m\u001b[0;34m=\u001b[0m\u001b[0mconfig\u001b[0m\u001b[0;34m)\u001b[0m\u001b[0;34m\u001b[0m\u001b[0;34m\u001b[0m\u001b[0m\n\u001b[0m\u001b[1;32m     48\u001b[0m \u001b[0;34m\u001b[0m\u001b[0m\n\u001b[1;32m     49\u001b[0m \u001b[0;34m\u001b[0m\u001b[0m\n",
      "\u001b[0;32m~/opt/anaconda3/envs/cs224n/lib/python3.7/site-packages/spacy/util.py\u001b[0m in \u001b[0;36mload_model\u001b[0;34m(name, vocab, disable, exclude, config)\u001b[0m\n\u001b[1;32m    327\u001b[0m     \u001b[0;32mif\u001b[0m \u001b[0mname\u001b[0m \u001b[0;32min\u001b[0m \u001b[0mOLD_MODEL_SHORTCUTS\u001b[0m\u001b[0;34m:\u001b[0m\u001b[0;34m\u001b[0m\u001b[0;34m\u001b[0m\u001b[0m\n\u001b[1;32m    328\u001b[0m         \u001b[0;32mraise\u001b[0m \u001b[0mIOError\u001b[0m\u001b[0;34m(\u001b[0m\u001b[0mErrors\u001b[0m\u001b[0;34m.\u001b[0m\u001b[0mE941\u001b[0m\u001b[0;34m.\u001b[0m\u001b[0mformat\u001b[0m\u001b[0;34m(\u001b[0m\u001b[0mname\u001b[0m\u001b[0;34m=\u001b[0m\u001b[0mname\u001b[0m\u001b[0;34m,\u001b[0m \u001b[0mfull\u001b[0m\u001b[0;34m=\u001b[0m\u001b[0mOLD_MODEL_SHORTCUTS\u001b[0m\u001b[0;34m[\u001b[0m\u001b[0mname\u001b[0m\u001b[0;34m]\u001b[0m\u001b[0;34m)\u001b[0m\u001b[0;34m)\u001b[0m\u001b[0;34m\u001b[0m\u001b[0;34m\u001b[0m\u001b[0m\n\u001b[0;32m--> 329\u001b[0;31m     \u001b[0;32mraise\u001b[0m \u001b[0mIOError\u001b[0m\u001b[0;34m(\u001b[0m\u001b[0mErrors\u001b[0m\u001b[0;34m.\u001b[0m\u001b[0mE050\u001b[0m\u001b[0;34m.\u001b[0m\u001b[0mformat\u001b[0m\u001b[0;34m(\u001b[0m\u001b[0mname\u001b[0m\u001b[0;34m=\u001b[0m\u001b[0mname\u001b[0m\u001b[0;34m)\u001b[0m\u001b[0;34m)\u001b[0m\u001b[0;34m\u001b[0m\u001b[0;34m\u001b[0m\u001b[0m\n\u001b[0m\u001b[1;32m    330\u001b[0m \u001b[0;34m\u001b[0m\u001b[0m\n\u001b[1;32m    331\u001b[0m \u001b[0;34m\u001b[0m\u001b[0m\n",
      "\u001b[0;31mOSError\u001b[0m: [E050] Can't find model 'en_core_web_sm'. It doesn't seem to be a Python package or a valid path to a data directory."
     ]
    }
   ],
   "source": [
    "nlp = spacy.load('en_core_web_sm')\n",
    "# neuralcoref.add_to_pipe(nlp)"
   ]
  },
  {
   "cell_type": "code",
   "execution_count": null,
   "id": "a9f2cfa3",
   "metadata": {},
   "outputs": [],
   "source": [
    "sent = sentences[0]\n",
    "sent = nlp(sent)\n",
    "spans = list(sent.ents) + list(sent.noun_chunks)  # collect nodes\n",
    "spans = spacy.util.filter_spans(spans)"
   ]
  },
  {
   "cell_type": "code",
   "execution_count": 19,
   "id": "b2b3a296",
   "metadata": {},
   "outputs": [
    {
     "data": {
      "text/plain": [
       "'3.0.3'"
      ]
     },
     "execution_count": 19,
     "metadata": {},
     "output_type": "execute_result"
    }
   ],
   "source": [
    "spacy.__version__"
   ]
  },
  {
   "cell_type": "code",
   "execution_count": null,
   "id": "4b0baccc",
   "metadata": {},
   "outputs": [],
   "source": []
  },
  {
   "cell_type": "code",
   "execution_count": null,
   "id": "334848aa",
   "metadata": {},
   "outputs": [],
   "source": []
  },
  {
   "cell_type": "code",
   "execution_count": null,
   "id": "85c6b665",
   "metadata": {},
   "outputs": [],
   "source": []
  },
  {
   "cell_type": "code",
   "execution_count": null,
   "id": "02c357b6",
   "metadata": {},
   "outputs": [],
   "source": []
  },
  {
   "cell_type": "code",
   "execution_count": null,
   "id": "ad52879c",
   "metadata": {},
   "outputs": [],
   "source": []
  },
  {
   "cell_type": "code",
   "execution_count": null,
   "id": "219e8cbc",
   "metadata": {},
   "outputs": [],
   "source": []
  },
  {
   "cell_type": "code",
   "execution_count": null,
   "id": "51924bf2",
   "metadata": {},
   "outputs": [],
   "source": []
  },
  {
   "cell_type": "code",
   "execution_count": null,
   "id": "f28aef66",
   "metadata": {},
   "outputs": [],
   "source": []
  },
  {
   "cell_type": "code",
   "execution_count": null,
   "id": "12f34c43",
   "metadata": {},
   "outputs": [],
   "source": []
  }
 ],
 "metadata": {
  "kernelspec": {
   "display_name": "cs224n",
   "language": "python",
   "name": "cs224n"
  },
  "language_info": {
   "codemirror_mode": {
    "name": "ipython",
    "version": 3
   },
   "file_extension": ".py",
   "mimetype": "text/x-python",
   "name": "python",
   "nbconvert_exporter": "python",
   "pygments_lexer": "ipython3",
   "version": "3.7.10"
  }
 },
 "nbformat": 4,
 "nbformat_minor": 5
}
